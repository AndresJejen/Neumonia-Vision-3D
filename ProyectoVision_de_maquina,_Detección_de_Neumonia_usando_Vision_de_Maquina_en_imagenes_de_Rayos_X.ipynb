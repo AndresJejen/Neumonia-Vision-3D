{
  "nbformat": 4,
  "nbformat_minor": 0,
  "metadata": {
    "colab": {
      "name": "ProyectoVision de maquina, Detección de Neumonia usando Vision de Maquina en imagenes de Rayos X.ipynb",
      "provenance": [],
      "private_outputs": true,
      "toc_visible": true,
      "mount_file_id": "180kjGGbsCkmMxJdUh79chJX3Xa01KLsT",
      "authorship_tag": "ABX9TyMvcuN2+TLwcIK5FNeZP3Nm",
      "include_colab_link": true
    },
    "kernelspec": {
      "name": "python3",
      "display_name": "Python 3"
    },
    "accelerator": "GPU"
  },
  "cells": [
    {
      "cell_type": "markdown",
      "metadata": {
        "id": "view-in-github",
        "colab_type": "text"
      },
      "source": [
        "<a href=\"https://colab.research.google.com/github/AndresJejen/Neumonia-Vision-3D/blob/master/ProyectoVision_de_maquina%2C_Detecci%C3%B3n_de_Neumonia_usando_Vision_de_Maquina_en_imagenes_de_Rayos_X.ipynb\" target=\"_parent\"><img src=\"https://colab.research.google.com/assets/colab-badge.svg\" alt=\"Open In Colab\"/></a>"
      ]
    },
    {
      "cell_type": "markdown",
      "metadata": {
        "id": "UMSDEemimEKC",
        "colab_type": "text"
      },
      "source": [
        "# Identificando casos de Neumonía con herramientas de visión de maquina.\n",
        "\n",
        "* Hair Sebastian López Criollo - hslopezc@unal.edu\n",
        "* German Andrés Jején Cortés - gjejen@unal.edu.co\n",
        "\n",
        "En este Notebook de constante actualización, encontrarás el proceso de recolección y análisis de imagenes de rayos x de pulmones diagnosticados como sanos o con neunomia. Nuestro objetivo es desarrollar una solución que ayude a profesionales de la salud a identificar con mayor rapidez casos de esta enfermedad para dar un tratamiento oportuno."
      ]
    },
    {
      "cell_type": "markdown",
      "metadata": {
        "id": "YPF5WMM1nwxf",
        "colab_type": "text"
      },
      "source": [
        "El conjunto de datos Lo estamos descargando de Kaggle, usando la API que provee la plataforma."
      ]
    },
    {
      "cell_type": "code",
      "metadata": {
        "id": "C9PY4vxbyWJd",
        "colab_type": "code",
        "colab": {}
      },
      "source": [
        "# !mkdir -p ~/.kaggle\n",
        "# !cp \"./drive/My Drive/Colab Notebooks/Proyect Machine Vision/kaggle.json\" ~/.kaggle/\n",
        "# !ls ~/.kaggle\n",
        "# !chmod 600 /root/.kaggle/kaggle.json\n",
        "# !kaggle datasets download -d paultimothymooney/chest-xray-pneumonia\n",
        "!unzip /content/chest-xray-pneumonia.zip -d \"./drive/My Drive/Colab Notebooks/Proyect Machine Vision/\""
      ],
      "execution_count": 0,
      "outputs": []
    },
    {
      "cell_type": "code",
      "metadata": {
        "id": "ImvcbZld0GE7",
        "colab_type": "code",
        "colab": {}
      },
      "source": [
        "import os\n",
        "import glob\n",
        "import h5py\n",
        "import shutil\n",
        "import imgaug as aug # Image Augmentation\n",
        "import numpy as np # linear algebra\n",
        "import pandas as pd # data processing, CSV file I/O (e.g. pd.read_csv)\n",
        "import seaborn as sns\n",
        "import matplotlib.pyplot as plt\n",
        "import matplotlib.image as mimg\n",
        "import imgaug.augmenters as iaa\n",
        "from os import listdir, makedirs, getcwd, remove\n",
        "from os.path import isfile, join, abspath, exists, isdir, expanduser\n",
        "from PIL import Image\n",
        "from pathlib import Path\n",
        "from skimage.io import imread\n",
        "from skimage.transform import resize\n",
        "import cv2\n",
        "color = sns.color_palette()\n",
        "%matplotlib inline"
      ],
      "execution_count": 0,
      "outputs": []
    },
    {
      "cell_type": "code",
      "metadata": {
        "id": "0mSFZI6b0xVZ",
        "colab_type": "code",
        "colab": {}
      },
      "source": [
        "# Definir la ruta de las imagenes\n",
        "data_dir = Path('./drive/My Drive/Colab Notebooks/Proyect Machine Vision/chest_xray/chest_xray')\n",
        "\n",
        "# Ruta del directorio de Imagenes de entrenamiento\n",
        "train_dir = data_dir / 'train'\n",
        "\n",
        "# Ruta del directorio de Imagenes de Validación\n",
        "val_dir = data_dir / 'val'\n",
        "\n",
        "# Ruta del directorio de Imagenes de Prueba\n",
        "test_dir = data_dir / 'test'"
      ],
      "execution_count": 0,
      "outputs": []
    },
    {
      "cell_type": "markdown",
      "metadata": {
        "id": "X85-oGoQsKsh",
        "colab_type": "text"
      },
      "source": [
        "Los datos no se encuentran etiquetados, es por esto que basandonos en el nombre provisto por el archivo generamos una lista de etiquetas, 1 para casos de neumonía y 0 para casos normales."
      ]
    },
    {
      "cell_type": "code",
      "metadata": {
        "id": "Fl-eWNka01ki",
        "colab_type": "code",
        "colab": {}
      },
      "source": [
        "# Ruta del directorio de Imagenes de entrenamiento tanto Normales como con neumonia\n",
        "normal_cases_dir = train_dir / 'NORMAL'\n",
        "pneumonia_cases_dir = train_dir / 'PNEUMONIA'\n",
        "\n",
        "# Lista de todas las imagenes \n",
        "normal_cases = normal_cases_dir.glob('*.jpeg')\n",
        "pneumonia_cases = pneumonia_cases_dir.glob('*.jpeg')\n",
        "\n",
        "# Arreglo vacio apra insertar los datos en una lista en el siguiente formato (img_path, label)\n",
        "train_data = []\n",
        "\n",
        "# Ir a través de todos los casos normales. La etiqueta para estos casos será 0\n",
        "for img in normal_cases:\n",
        "    train_data.append((img,0))\n",
        "\n",
        "# Ir a través de todos los casos de neumonía. La etiqueta para estos casos será 1\n",
        "for img in pneumonia_cases:\n",
        "    train_data.append((img, 1))\n",
        "\n",
        "# Obtenga un marco de datos de pandas de los datos que tenemos en nuestra lista\n",
        "train_data = pd.DataFrame(train_data, columns=['image', 'label'],index=None)\n",
        "\n",
        "# revolver los datos\n",
        "train_data = train_data.sample(frac=1.).reset_index(drop=True)\n",
        "\n",
        "# un vistazo a los datos\n",
        "train_data.head()"
      ],
      "execution_count": 0,
      "outputs": []
    },
    {
      "cell_type": "markdown",
      "metadata": {
        "id": "H_964zkfrawh",
        "colab_type": "text"
      },
      "source": [
        "## Analizando los datos\n",
        "Trabajar con imagenes que puedan ser procesadas por una visipon computacional trae problemas comunes, como es el caso de no tener la sufuciente cantidad de datos o que se encuentren mas ejemplares de unas clases que de otras. Para confirmar si estos escenarios están presenten en nuestro proyecto verificamos las etiquetas, realizando un conteo por clase."
      ]
    },
    {
      "cell_type": "code",
      "metadata": {
        "id": "xB0X3lMk1ZwT",
        "colab_type": "code",
        "colab": {}
      },
      "source": [
        "# Contar por cada clase cuantas imagenes Existen\n",
        "cases_count = train_data['label'].value_counts()\n",
        "print(cases_count)\n",
        "\n",
        "# Graficar los resultados\n",
        "plt.figure(figsize=(10,8))\n",
        "sns.barplot(x=cases_count.index, y= cases_count.values)\n",
        "plt.title('Number of cases', fontsize=14)\n",
        "plt.xlabel('Case type', fontsize=12)\n",
        "plt.ylabel('Count', fontsize=12)\n",
        "plt.xticks(range(len(cases_count.index)), ['Normal(0)', 'Pneumonia(1)'])\n",
        "plt.show()"
      ],
      "execution_count": 0,
      "outputs": []
    },
    {
      "cell_type": "markdown",
      "metadata": {
        "id": "9FPlaOncuPZE",
        "colab_type": "text"
      },
      "source": [
        "Existe una gran diferencia entre casos diagnosticados y casos normales. Es necesario conseguir mas datos o usar herramientas de Data Augmentation."
      ]
    },
    {
      "cell_type": "code",
      "metadata": {
        "id": "EsfvwtUV1f11",
        "colab_type": "code",
        "colab": {}
      },
      "source": [
        "# obtener unas pocas muestras de ambas clases \n",
        "pneumonia_samples = (train_data[train_data['label']==1]['image'].iloc[:5]).tolist()\n",
        "normal_samples = (train_data[train_data['label']==0]['image'].iloc[:5]).tolist()\n",
        "\n",
        "# Concatenar los datos en una simple lista y borrar las listas de arriba\n",
        "samples = pneumonia_samples + normal_samples\n",
        "del pneumonia_samples, normal_samples\n",
        "\n",
        "# Mostrar los ejemplos\n",
        "f, ax = plt.subplots(2,5, figsize=(30,10))\n",
        "for i in range(10):\n",
        "    img = imread(samples[i])\n",
        "    ax[i//5, i%5].imshow(img, cmap='gray')\n",
        "    if i<5:\n",
        "        ax[i//5, i%5].set_title(\"Pneumonia\")\n",
        "    else:\n",
        "        ax[i//5, i%5].set_title(\"Normal\")\n",
        "    ax[i//5, i%5].axis('off')\n",
        "    ax[i//5, i%5].set_aspect('auto')\n",
        "plt.show()"
      ],
      "execution_count": 0,
      "outputs": []
    },
    {
      "cell_type": "markdown",
      "metadata": {
        "id": "HgjsANAGuvsw",
        "colab_type": "text"
      },
      "source": [
        "Podemos observar unos pocos ejemplos de imagenes, es curioso observar como para personas sin experiencia médica como nosostros es dificil encontrar diferencias significativas entre ambos casos.\n"
      ]
    },
    {
      "cell_type": "code",
      "metadata": {
        "id": "Y_mbXz1c1k7R",
        "colab_type": "code",
        "colab": {}
      },
      "source": [
        "# Realizamos el mismo proceso de captura de datos del directorio de validación\n",
        "Get the path to the sub-directories\n",
        "normal_cases_dir = val_dir / 'NORMAL'\n",
        "pneumonia_cases_dir = val_dir / 'PNEUMONIA'\n",
        "\n",
        "normal_cases = normal_cases_dir.glob('*.jpeg')\n",
        "pneumonia_cases = pneumonia_cases_dir.glob('*.jpeg')\n",
        "\n",
        "valid_data = []\n",
        "valid_labels = []\n",
        "\n",
        "# Some images are in grayscale while majority of them contains 3 channels. So, if the image is grayscale, we will convert into a image with 3 channels.\n",
        "# We will normalize the pixel values and resizing all the images to 224x224 \n",
        "\n",
        "# Normal cases\n",
        "for img in normal_cases:\n",
        "    img = cv2.imread(str(img))\n",
        "    img = cv2.resize(img, (224,224))\n",
        "    if img.shape[2] ==1:\n",
        "        img = np.dstack([img, img, img])\n",
        "    img = cv2.cvtColor(img, cv2.COLOR_BGR2RGB)\n",
        "    img = img.astype(np.float32)/255.\n",
        "    label = to_categorical(0, num_classes=2)\n",
        "    valid_data.append(img)\n",
        "    valid_labels.append(label)\n",
        "                      \n",
        "# Pneumonia cases        \n",
        "for img in pneumonia_cases:\n",
        "    img = cv2.imread(str(img))\n",
        "    img = cv2.resize(img, (224,224))\n",
        "    if img.shape[2] ==1:\n",
        "        img = np.dstack([img, img, img])\n",
        "    img = cv2.cvtColor(img, cv2.COLOR_BGR2RGB)\n",
        "    img = img.astype(np.float32)/255.\n",
        "    label = to_categorical(1, num_classes=2)\n",
        "    valid_data.append(img)\n",
        "    valid_labels.append(label)\n",
        "    \n",
        "# Convert the list into numpy arrays\n",
        "valid_data = np.array(valid_data)\n",
        "valid_labels = np.array(valid_labels)\n",
        "\n",
        "print(\"Total number of validation examples: \", valid_data.shape)\n",
        "print(\"Total number of labels:\", valid_labels.shape)"
      ],
      "execution_count": 0,
      "outputs": []
    },
    {
      "cell_type": "markdown",
      "metadata": {
        "id": "vZbcpsAQvT8h",
        "colab_type": "text"
      },
      "source": [
        ""
      ]
    },
    {
      "cell_type": "code",
      "metadata": {
        "id": "dDOfLXte1nyh",
        "colab_type": "code",
        "colab": {}
      },
      "source": [
        "# Sequencia de Aumentación de datos\n",
        "seq = iaa.OneOf([\n",
        "    iaa.Fliplr(), # Rotación Horizontal\n",
        "    iaa.Affine(rotate=20), # Rotación de la imagen\n",
        "    iaa.Multiply((1.2, 1.5))]) # Cambiar el brillo aleatoriamente"
      ],
      "execution_count": 0,
      "outputs": []
    },
    {
      "cell_type": "markdown",
      "metadata": {
        "id": "FIBCiy2JvlZw",
        "colab_type": "text"
      },
      "source": [
        "### Optimización de la Memoria\n",
        "Resulta que trabajamos con un conjunto de datos que tiene un peso de aproximadamente una giga, además queremos hacer buen uso de recursos como la memoria RAM de la laquina en donde trabajamos. Para esto usamos una estrategia de Generador de datos que toma de manera aleatoria la ruta de la imagen y las carga a un dataframe temporar que sera utilizado en cada proceso que se realize, asi no es necesario tener cargado en memoria RAM todas las imagenes esperando a ser procesadas."
      ]
    },
    {
      "cell_type": "code",
      "metadata": {
        "id": "1H-RLeKH1rNZ",
        "colab_type": "code",
        "colab": {}
      },
      "source": [
        "def data_gen(data, batch_size):\n",
        "    n = len(data)\n",
        "    steps = n//batch_size\n",
        "    \n",
        "    batch_data = np.zeros((batch_size, 224, 224, 3), dtype=np.float32)\n",
        "    batch_labels = np.zeros((batch_size,2), dtype=np.float32)\n",
        "\n",
        "    indices = np.arange(n)\n",
        "  \n",
        "    i =0\n",
        "    while True:\n",
        "        np.random.shuffle(indices)\n",
        "        count = 0\n",
        "        next_batch = indices[(i*batch_size):(i+1)*batch_size]\n",
        "        for j, idx in enumerate(next_batch):\n",
        "            img_name = data.iloc[idx]['image']\n",
        "            label = data.iloc[idx]['label']\n",
        "            \n",
        "            encoded_label = to_categorical(label, num_classes=2)\n",
        "            img = cv2.imread(str(img_name))\n",
        "            img = cv2.resize(img, (224,224))\n",
        "          \n",
        "            if img.shape[2]==1:\n",
        "                img = np.dstack([img, img, img])\n",
        "            \n",
        "            orig_img = cv2.cvtColor(img, cv2.COLOR_BGR2RGB)\n",
        "            orig_img = img.astype(np.float32)/255.\n",
        "            \n",
        "            batch_data[count] = orig_img\n",
        "            batch_labels[count] = encoded_label\n",
        "            \n",
        "            if label==0 and count < batch_size-2:\n",
        "                aug_img1 = seq.augment_image(img)\n",
        "                aug_img2 = seq.augment_image(img)\n",
        "                aug_img1 = cv2.cvtColor(aug_img1, cv2.COLOR_BGR2RGB)\n",
        "                aug_img2 = cv2.cvtColor(aug_img2, cv2.COLOR_BGR2RGB)\n",
        "                aug_img1 = aug_img1.astype(np.float32)/255.\n",
        "                aug_img2 = aug_img2.astype(np.float32)/255.\n",
        "\n",
        "                batch_data[count+1] = aug_img1\n",
        "                batch_labels[count+1] = encoded_label\n",
        "                batch_data[count+2] = aug_img2\n",
        "                batch_labels[count+2] = encoded_label\n",
        "                count +=2\n",
        "            \n",
        "            else:\n",
        "                count+=1\n",
        "            \n",
        "            if count==batch_size-1:\n",
        "                break\n",
        "            \n",
        "        i+=1\n",
        "        yield batch_data, batch_labels\n",
        "            \n",
        "        if i>=steps:\n",
        "            i=0"
      ],
      "execution_count": 0,
      "outputs": []
    },
    {
      "cell_type": "code",
      "metadata": {
        "id": "oS73hgmw3JGb",
        "colab_type": "code",
        "colab": {}
      },
      "source": [
        "# Generador de los datos, ademas de aumentar las muestras por paquete de imagenes.\n",
        "train_data_gen = data_gen(data=train_data, batch_size=10)"
      ],
      "execution_count": 0,
      "outputs": []
    },
    {
      "cell_type": "code",
      "metadata": {
        "id": "AOvphFFvwxyk",
        "colab_type": "code",
        "colab": {}
      },
      "source": [
        "train_data_gen"
      ],
      "execution_count": 0,
      "outputs": []
    }
  ]
}